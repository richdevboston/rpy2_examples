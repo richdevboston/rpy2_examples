{
 "cells": [
  {
   "cell_type": "markdown",
   "metadata": {},
   "source": [
    "# Interfacing R from a Python 3 Jupyter Notebook\n",
    "Jared Stufft, 12-19-2017\n",
    "\n",
    "Python and R are two giants in the analytics world for data cleaning, pipelines, machine learning/statistical modeling, and data visualization. As data scientists, analysts, or statisticians, we often choose the tool that allows us to perform the task at hand in the quickest and most accurate way possible. For some, that means Python. For others, that means R. For many, myself included, that means a combination of the two.\n",
    "\n",
    "The problem then arises that it takes valuable development and analysis time to switch between these two languages, passing your data and models through .csv files or through a database system. Fortunately, there's a solution that allows data professionals to quickly and easily interface R and Python together in one single Jupyter notebook.\n",
    "\n",
    "This notebook provides a simple introduction to calling R code from a Python 3 kernel Jupyter notebook using the rpy2 library and magic commands."
   ]
  },
  {
   "cell_type": "markdown",
   "metadata": {},
   "source": [
    "## Libraries Needed\n",
    "If you're using the Anaconda distribution of Python, all you need to do is type '**conda install rpy2**' into the Anaconda terminal. You may also need to download Anaconda's R distribution, which can easily be found within the Anaconda Navigator.\n",
    "\n",
    "Within your notebook, you'll import the **rpy2.rinterface** library:"
   ]
  },
  {
   "cell_type": "code",
   "execution_count": 2,
   "metadata": {},
   "outputs": [],
   "source": [
    "import rpy2.rinterface\n",
    "\n",
    "# A few other standard libraries for this notebook\n",
    "import pandas as pd\n",
    "import numpy as np\n",
    "import seaborn as sns\n",
    "import matplotlib.pyplot as plt"
   ]
  },
  {
   "cell_type": "markdown",
   "metadata": {},
   "source": [
    "## Magic Commands\n",
    "A really useful feature of IPython and Jupyter notebooks are magic commands. These commands, prefaced with a '%', add some extra power over top of the typical Python syntax to solve common problems that may arise. A more comprehensive guide to magic commands can be found in the IPython docs here: http://ipython.readthedocs.io/en/stable/interactive/magics.html\n",
    "\n",
    "The two magic commands we'll be most focused on for this notebook is **%load_ext** and **%%R**.\n",
    "\n",
    "The **%load_ext** magic command loads the rpy2 IPython extension into the notebook, essentially initializing the R interface and allowing the notebook to connect and pass objects between the two languages. This magic command needs only to be run once:"
   ]
  },
  {
   "cell_type": "code",
   "execution_count": 3,
   "metadata": {},
   "outputs": [],
   "source": [
    "%load_ext rpy2.ipython"
   ]
  },
  {
   "cell_type": "markdown",
   "metadata": {},
   "source": [
    "Now that the extension is loaded, putting the **%%R** magic command at the very top of a code cell will allow us to write our R code:"
   ]
  },
  {
   "cell_type": "code",
   "execution_count": 4,
   "metadata": {},
   "outputs": [
    {
     "data": {
      "image/png": "[encoded data removed]"
     },
     "metadata": {},
     "output_type": "display_data"
    }
   ],
   "source": [
    "%%R\n",
    "# ^ Tells the notebook that this code cell is actually R\n",
    "\n",
    "# Now we can write R code as if this were an R notebook\n",
    "X_vals <- c(1, 2, 3, 4, 5)\n",
    "y_vals <- c(1, 2, 4, 8, 16)\n",
    "\n",
    "plot(X_vals, y_vals,\n",
    "     col='purple', pch=12,\n",
    "     main='R plot in Python')"
   ]
  },
  {
   "cell_type": "markdown",
   "metadata": {},
   "source": [
    "## Passing Objects Between Python and R\n",
    "\n",
    "Of course, the largest benefit is that we can create or manipulate objects/data in one language, pass it to the other, and then run more operations. As Python is still pretty young in the analytics world, I tend to use R for more niche statistical methods such as survival analysis. On the other hand, I prefer Python for data manipulation and machine learning. The rpy2 interface allows you to use a language for one action, pass the object to the other language, and complete your calculations.\n",
    "\n",
    "There's a couple dedicated magic commands to do this such as **%Rget** and **%Rpush**, but I prefer the **-i** and **-o** options in the **%%R** magic command. A variable listed after **-i** on the **%%R** line will be inputted and converted to an R object from Python. Likewise, a variable listed after **-o** on the **%%R** line will be outputted and converted from an R object to a Python object.\n",
    "\n",
    "**NOTE:** I use Windows OS. I experience issues printing R objects with an **%%R** designated code block - it appears in the IPython console opened up by Jupyter but not within the notebook itself. I've been told that this is not an issue with Mac OS, as the rpy2 interface works a touch better there. To get around this, I just output R variables I'd like to print to a Python object and print there."
   ]
  },
  {
   "cell_type": "code",
   "execution_count": 5,
   "metadata": {},
   "outputs": [
    {
     "name": "stdout",
     "output_type": "stream",
     "text": [
      "     A  B\n",
      "0    2  1\n",
      "1    3  3\n",
      "2    5  4\n",
      "3    7  5\n",
      "4    8  5\n",
      "5   10  7\n",
      "6    6  4\n",
      "7    7  6\n",
      "8    1  2\n",
      "9    4  3\n",
      "10   2  1\n",
      "11   3  5\n",
      "12   5  6\n",
      "13   8  7\n"
     ]
    }
   ],
   "source": [
    "# Python to R\n",
    "\n",
    "# Create a pandas dataframe in Python\n",
    "python_df = pd.DataFrame({'A': [2, 3, 5, 7, 8, 10, 6, 7, 1, 4, 2, 3, 5, 8],\n",
    "                          'B': [1, 3, 4, 5, 5, 7, 4, 6, 2, 3, 1, 5, 6, 7]})\n",
    "\n",
    "print(python_df)"
   ]
  },
  {
   "cell_type": "code",
   "execution_count": 6,
   "metadata": {},
   "outputs": [
    {
     "name": "stderr",
     "output_type": "stream",
     "text": [
      "C:\\ProgramData\\Anaconda3\\lib\\site-packages\\rpy2\\robjects\\pandas2ri.py:191: FutureWarning: from_items is deprecated. Please use DataFrame.from_dict(dict(items), ...) instead. DataFrame.from_dict(OrderedDict(items)) may be used to preserve the key order.\n",
      "  res = PandasDataFrame.from_items(items)\n"
     ]
    },
    {
     "data": {
      "image/png": "[encoded data removed]"
     },
     "metadata": {},
     "output_type": "display_data"
    }
   ],
   "source": [
    "%%R -i python_df\n",
    "# ^ Pass the dataframe to R using the -i option for %%R\n",
    "\n",
    "# Using R's plot function\n",
    "plot(python_df,\n",
    "     main='Plotting a Python Dataframe in R',\n",
    "     col='purple',\n",
    "     pch=9)"
   ]
  },
  {
   "cell_type": "code",
   "execution_count": 7,
   "metadata": {},
   "outputs": [],
   "source": [
    "%%R -o model -o coef\n",
    "# R to Python\n",
    "# the python_df variable is still in the R\n",
    "# We can output the model object we create using the -o options\n",
    "\n",
    "# Creating a linear model on the Python DF using R's lm() function\n",
    "model <- lm(B ~ A, data=python_df)\n",
    "coef <- model$coefficients"
   ]
  },
  {
   "cell_type": "code",
   "execution_count": 8,
   "metadata": {},
   "outputs": [
    {
     "name": "stdout",
     "output_type": "stream",
     "text": [
      "\n",
      "\r\n",
      "Call:\n",
      "\r\n",
      "lm(formula = B ~ A, data = python_df)\n",
      "\r\n",
      "\n",
      "\r\n",
      "Coefficients:\n",
      "\r\n",
      "(Intercept)            A  \n",
      "\r\n",
      "     1.0203       0.6298  \n",
      "\r\n",
      "\n",
      "\n",
      "<class 'rpy2.robjects.vectors.ListVector'>\n",
      "(Intercept)           A \n",
      "\r\n",
      "  1.0203160   0.6297968 \n",
      "\n",
      "<class 'rpy2.robjects.vectors.FloatVector'>\n",
      "[1.0203160270880356, 0.6297968397291197]\n"
     ]
    }
   ],
   "source": [
    "# Show the model output as in R\n",
    "print(model)\n",
    "print(type(model))\n",
    "\n",
    "# Model coefficients\n",
    "print(coef)\n",
    "print(type(coef))\n",
    "\n",
    "# The rpy2 objects can be turned into more native Python data structures\n",
    "print(list(coef))"
   ]
  },
  {
   "cell_type": "code",
   "execution_count": 9,
   "metadata": {},
   "outputs": [],
   "source": [
    "%%R -o cars_df\n",
    "# Another R to Python example\n",
    "\n",
    "# R has a built-in library of sample datasets\n",
    "library(datasets)\n",
    "\n",
    "cars_df <- cars\n",
    "\n",
    "# Using the -o function from above, we can output the cars_df dataframe to Python"
   ]
  },
  {
   "cell_type": "markdown",
   "metadata": {},
   "source": [
    "**NOTE:** An R convention is to use a dot as a delineation for object names, where in Python it's customary to use an underscore. E.g. In R, we might call the cars dataframe 'cars.df', where in Python we would call it 'cars_df'. However, Python uses the dot as an accessor to object attributes, similar to how R uses the $ accessor. When outputting an R object to Python, avoid using the dot as a delineator as you will get errors when trying to work with those objects in Python."
   ]
  },
  {
   "cell_type": "code",
   "execution_count": 10,
   "metadata": {},
   "outputs": [
    {
     "name": "stdout",
     "output_type": "stream",
     "text": [
      "   speed  dist\n",
      "0    4.0   2.0\n",
      "1    4.0  10.0\n",
      "2    7.0   4.0\n",
      "3    7.0  22.0\n",
      "4    8.0  16.0\n"
     ]
    },
    {
     "data": {
      "image/png": "[encoded data removed]",
      "text/plain": [
       "<Figure size 360x360 with 1 Axes>"
      ]
     },
     "metadata": {
      "needs_background": "light"
     },
     "output_type": "display_data"
    }
   ],
   "source": [
    "# The cars dataframe is now in Python\n",
    "print(cars_df.head())\n",
    "\n",
    "sns.pairplot(x_vars=['speed'],\n",
    "             y_vars=['dist'],\n",
    "             data=cars_df,\n",
    "             height=5)\n",
    "plt.show()"
   ]
  },
  {
   "cell_type": "markdown",
   "metadata": {},
   "source": [
    "## %Rpush and %Rget\n",
    "\n",
    "As I mentioned, I prefer using the -i and -o options in the **%%R** magic command to pass objects between Python and R. However, **%Rpush** and **%Rget** are available as alternatives:"
   ]
  },
  {
   "cell_type": "code",
   "execution_count": 19,
   "metadata": {},
   "outputs": [],
   "source": [
    "%%R\n",
    "\n",
    "# create a sample R object: my_var\n",
    "my_var <- c(1, 2, 3, 4, 5)"
   ]
  },
  {
   "cell_type": "code",
   "execution_count": 21,
   "metadata": {},
   "outputs": [
    {
     "name": "stdout",
     "output_type": "stream",
     "text": [
      "[1] 1 2 3 4 5\n",
      "\n",
      "<class 'rpy2.robjects.vectors.FloatVector'>\n",
      "[1.0, 2.0, 3.0, 4.0, 5.0]\n"
     ]
    }
   ],
   "source": [
    "# Request the my_var object from a Python block using %Rget\n",
    "my_python_var = %Rget my_var\n",
    "\n",
    "print(my_python_var)\n",
    "print(type(my_python_var))\n",
    "\n",
    "print(list(my_python_var))"
   ]
  },
  {
   "cell_type": "code",
   "execution_count": 16,
   "metadata": {},
   "outputs": [],
   "source": [
    "# Create a sample Python object: my_python_var_1 and my_python_var_2\n",
    "my_python_var_1 = np.array([1, 2, 3, 4, 5])\n",
    "my_python_var_2 = np.array([1, 2, 4, 8, 16])\n",
    "\n",
    "# Push the Python objects to R\n",
    "%Rpush my_python_var_1 my_python_var_2"
   ]
  },
  {
   "cell_type": "code",
   "execution_count": 17,
   "metadata": {},
   "outputs": [
    {
     "data": {
      "text/plain": [
       "array([1, 2, 3, 4, 5])"
      ]
     },
     "execution_count": 17,
     "metadata": {},
     "output_type": "execute_result"
    }
   ],
   "source": [
    "my_python_var_1"
   ]
  },
  {
   "cell_type": "code",
   "execution_count": 18,
   "metadata": {},
   "outputs": [
    {
     "data": {
      "text/plain": [
       "array([ 1,  2,  4,  8, 16])"
      ]
     },
     "execution_count": 18,
     "metadata": {},
     "output_type": "execute_result"
    }
   ],
   "source": [
    "my_python_var_2"
   ]
  },
  {
   "cell_type": "code",
   "execution_count": null,
   "metadata": {},
   "outputs": [],
   "source": []
  },
  {
   "cell_type": "code",
   "execution_count": 15,
   "metadata": {},
   "outputs": [
    {
     "data": {
      "image/png": "[encoded data removed]"
     },
     "metadata": {},
     "output_type": "display_data"
    }
   ],
   "source": [
    "%%R\n",
    "plot(my_python_var_1, my_python_var_2,\n",
    "     main='Python Objects pushed to R',\n",
    "     col='purple',\n",
    "     pch=16)"
   ]
  },
  {
   "cell_type": "markdown",
   "metadata": {},
   "source": [
    "## Other Resources\n",
    "\n",
    "That wraps up this quick tutorial. I hope you found it informative. Here's some other resources on this method, including interfacing other languages:\n",
    "* http://rpy.sourceforge.net/rpy2/doc-2.4/html/index.html\n",
    "* http://carreau.github.io/posts/23-Cross-Language-Integration.html\n",
    "* http://blog.revolutionanalytics.com/2016/01/pipelining-r-python.html\n",
    "\n",
    "You may also be interested in Beaker Notebooks, though I have no experience with them. They look pretty cool and I'm going to check them out!\n",
    "* http://beakernotebook.com/"
   ]
  },
  {
   "cell_type": "code",
   "execution_count": null,
   "metadata": {},
   "outputs": [],
   "source": []
  }
 ],
 "metadata": {
  "kernelspec": {
   "display_name": "Python 3",
   "language": "python",
   "name": "python3"
  },
  "language_info": {
   "codemirror_mode": {
    "name": "ipython",
    "version": 3
   },
   "file_extension": ".py",
   "mimetype": "text/x-python",
   "name": "python",
   "nbconvert_exporter": "python",
   "pygments_lexer": "ipython3",
   "version": "3.7.4"
  },
  "toc": {
   "base_numbering": 1,
   "nav_menu": {},
   "number_sections": true,
   "sideBar": true,
   "skip_h1_title": true,
   "title_cell": "Table of Contents",
   "title_sidebar": "Contents",
   "toc_cell": false,
   "toc_position": {},
   "toc_section_display": true,
   "toc_window_display": true
  }
 },
 "nbformat": 4,
 "nbformat_minor": 2
}
